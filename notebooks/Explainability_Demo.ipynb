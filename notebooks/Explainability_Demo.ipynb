{
 "cells": [
  {
   "cell_type": "markdown",
   "id": "d2ed1166",
   "metadata": {},
   "source": [
    "📄 Notebook Title: SHAP Explainability Demo\n",
    "markdown\n",
    "Copy\n",
    "Edit\n",
    "# SHAP Explainability Demo for CVaR Portfolio\n",
    "\n",
    "This notebook demonstrates per-asset risk contribution analysis using SHAP values, visualizing how each asset affects the final portfolio tail risk.\n",
    "💻 Import modules\n",
    "python\n",
    "Copy\n",
    "Edit\n",
    "import numpy as np\n",
    "from app.explain import explain_asset_contributions\n",
    "📊 Generate simulated returns\n",
    "python\n",
    "Copy\n",
    "Edit\n",
    "np.random.seed(42)\n",
    "n_assets = 5\n",
    "n_samples = 500\n",
    "\n",
    "returns_matrix = np.random.normal(0.001, 0.02, size=(n_samples, n_assets))\n",
    "initial_weights = np.ones(n_assets) / n_assets\n",
    "⚖️ Run SHAP explainability\n",
    "python\n",
    "Copy\n",
    "Edit\n",
    "explain_asset_contributions(initial_weights, returns_matrix)\n",
    "📄 Note\n",
    "markdown\n",
    "Copy\n",
    "Edit\n",
    "The `explain_asset_contributions` function generates a SHAP summary plot and saves it as `plots/shap_summary.png`. Check this file to see the asset-level contributions to risk.\n"
   ]
  }
 ],
 "metadata": {
  "language_info": {
   "name": "python"
  }
 },
 "nbformat": 4,
 "nbformat_minor": 5
}
